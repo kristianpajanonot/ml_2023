{
 "cells": [
  {
   "cell_type": "markdown",
   "metadata": {
    "id": "bc713cda"
   },
   "source": [
    "# Machine Learning - Practical 4 - Deep Learning VS Trees\n",
    "\n",
    "\n",
    "Names: {YOUR NAMES}  \n",
    "Summer Term 2023   \n",
    "Due Date: Tuesday, June 13, 2pm"
   ]
  },
  {
   "cell_type": "markdown",
   "metadata": {
    "id": "0e394c4e"
   },
   "source": [
    "In this practical we are going to use a tabular dataset. We will test two different approaches - forests and neural networks and compare performance. We are also going to learn how to make trees interpretable."
   ]
  },
  {
   "cell_type": "markdown",
   "metadata": {
    "id": "72933ee7"
   },
   "source": [
    "To prepare this tutorial we used [this paper](https://arxiv.org/pdf/2207.08815.pdf) with its [repository](https://github.com/LeoGrin/tabular-benchmark).\n",
    "\n",
    "For explained variance in trees, you can read more [here](https://scikit-learn.org/0.15/auto_examples/ensemble/plot_gradient_boosting_regression.html#example-ensemble-plot-gradient-boosting-regression-py).\n"
   ]
  },
  {
   "cell_type": "code",
   "execution_count": 1,
   "metadata": {
    "execution": {
     "iopub.execute_input": "2023-06-05T20:00:46.916615Z",
     "iopub.status.busy": "2023-06-05T20:00:46.915508Z",
     "iopub.status.idle": "2023-06-05T20:00:56.199172Z",
     "shell.execute_reply": "2023-06-05T20:00:56.198167Z",
     "shell.execute_reply.started": "2023-06-05T20:00:46.916570Z"
    },
    "id": "218de310",
    "outputId": "93864191-1b7e-479f-bfd3-0759b4847266"
   },
   "outputs": [
    {
     "data": {
      "text/plain": [
       "<torch._C.Generator at 0x79443b299730>"
      ]
     },
     "execution_count": 1,
     "metadata": {},
     "output_type": "execute_result"
    }
   ],
   "source": [
    "%matplotlib inline\n",
    "\n",
    "import pandas as pd\n",
    "import seaborn as sns\n",
    "import matplotlib.pyplot as plt\n",
    "import numpy as np\n",
    "import pickle\n",
    "import os\n",
    "\n",
    "from sklearn.model_selection import train_test_split\n",
    "from sklearn.ensemble import GradientBoostingClassifier\n",
    "from sklearn.metrics import recall_score, precision_score, accuracy_score\n",
    "\n",
    "from PIL import Image\n",
    "import torch\n",
    "import torch.nn as nn\n",
    "from torch.utils.data import DataLoader, Dataset, Subset\n",
    "import torchvision.datasets as datasets\n",
    "import torchvision.transforms as transforms\n",
    "from torchvision.utils import make_grid\n",
    "torch.manual_seed(42) # Set manual seed"
   ]
  },
  {
   "cell_type": "code",
   "execution_count": 2,
   "metadata": {
    "execution": {
     "iopub.execute_input": "2023-06-05T20:01:04.235086Z",
     "iopub.status.busy": "2023-06-05T20:01:04.234485Z",
     "iopub.status.idle": "2023-06-05T20:01:04.240570Z",
     "shell.execute_reply": "2023-06-05T20:01:04.238427Z",
     "shell.execute_reply.started": "2023-06-05T20:01:04.235054Z"
    }
   },
   "outputs": [],
   "source": [
    "os.environ['CUDA_LAUNCH_BLOCKING'] = \"1\""
   ]
  },
  {
   "cell_type": "code",
   "execution_count": 3,
   "metadata": {
    "execution": {
     "iopub.execute_input": "2023-06-05T20:01:04.566697Z",
     "iopub.status.busy": "2023-06-05T20:01:04.566347Z",
     "iopub.status.idle": "2023-06-05T20:01:04.666750Z",
     "shell.execute_reply": "2023-06-05T20:01:04.665811Z",
     "shell.execute_reply.started": "2023-06-05T20:01:04.566668Z"
    },
    "id": "3bb2c837"
   },
   "outputs": [
    {
     "name": "stdout",
     "output_type": "stream",
     "text": [
      "Using device cuda:0\n"
     ]
    }
   ],
   "source": [
    "# DO NOT CHANGE\n",
    "use_cuda = True\n",
    "use_cuda = False if not use_cuda else torch.cuda.is_available()\n",
    "device = torch.device('cuda:0' if use_cuda else 'cpu')\n",
    "torch.cuda.get_device_name(device) if use_cuda else 'cpu'\n",
    "print('Using device', device)"
   ]
  },
  {
   "cell_type": "markdown",
   "metadata": {
    "id": "8e24771e"
   },
   "source": [
    "## Load, clean and split the tabular dataset"
   ]
  },
  {
   "cell_type": "markdown",
   "metadata": {
    "id": "61d9f9e1"
   },
   "source": [
    "We use the preprocessing pipeline from [Grinsztajn, 2022](https://arxiv.org/pdf/2207.08815.pdf).\n",
    "\n",
    "**No missing data**    \n",
    "\n",
    "Remove all rows containing at least one missing entry.    \n",
    "\n",
    "*In practice people often do not remove rows with missing values but try to fill missing values in a column with the mean or median values for numerical data and mode or median values for categorical data. Sometimes even simple prediction models are used to fill in the gaps but we will remove rows or columns with missing values for the sake of simplicity*\n",
    "\n",
    "**Balanced classes**   \n",
    "\n",
    "For classification, the target is binarised if there are multiple classes, by taking the two most numerous classes, and we keep half of samples in each class.\n",
    "\n",
    "**Low cardinality categorical features**   \n",
    "\n",
    "Remove categorical features with more than 20 items. \n",
    "\n",
    "**High cardinality numerical features**   \n",
    "\n",
    "Remove numerical features with less than 10 unique values. Convert numerical features with 2 unique values to categorical."
   ]
  },
  {
   "cell_type": "markdown",
   "metadata": {
    "id": "Gyi3ep5EtiIf"
   },
   "source": [
    "**Data description:**  \n",
    "Data reported to the police about the circumstances of personal injury road accidents in Great Britain from 1979. This version includes data up to 2015. We will try to predict the sex of the driver based on the data provided."
   ]
  },
  {
   "cell_type": "code",
   "execution_count": 9,
   "metadata": {
    "execution": {
     "iopub.execute_input": "2023-06-05T20:01:24.174763Z",
     "iopub.status.busy": "2023-06-05T20:01:24.174406Z",
     "iopub.status.idle": "2023-06-05T20:01:25.717349Z",
     "shell.execute_reply": "2023-06-05T20:01:25.716052Z",
     "shell.execute_reply.started": "2023-06-05T20:01:24.174727Z"
    }
   },
   "outputs": [],
   "source": [
    "## In case you have any issues with loading the pickle file\n",
    "## check that your pandas version is 1.4.1\n",
    "## or just simply run:\n",
    "## pip install pandas==1.4.1\n",
    "\n",
    "with open('/kaggle/input/adopted-road-safety/adopted_road_safety.pkl', 'rb') as f:\n",
    "    dataset = pickle.load(f)"
   ]
  },
  {
   "cell_type": "code",
   "execution_count": 10,
   "metadata": {
    "execution": {
     "iopub.execute_input": "2023-06-05T20:01:25.719601Z",
     "iopub.status.busy": "2023-06-05T20:01:25.719203Z",
     "iopub.status.idle": "2023-06-05T20:01:25.725068Z",
     "shell.execute_reply": "2023-06-05T20:01:25.723968Z",
     "shell.execute_reply.started": "2023-06-05T20:01:25.719565Z"
    },
    "id": "fAWW5kChD6MU"
   },
   "outputs": [],
   "source": [
    "target_column = 'Sex_of_Driver'\n",
    "test_size = 0.2\n",
    "random_state = 42"
   ]
  },
  {
   "cell_type": "code",
   "execution_count": 11,
   "metadata": {
    "execution": {
     "iopub.execute_input": "2023-06-05T20:01:27.901008Z",
     "iopub.status.busy": "2023-06-05T20:01:27.899854Z",
     "iopub.status.idle": "2023-06-05T20:01:27.912433Z",
     "shell.execute_reply": "2023-06-05T20:01:27.911128Z",
     "shell.execute_reply.started": "2023-06-05T20:01:27.900965Z"
    },
    "id": "3d77435f"
   },
   "outputs": [],
   "source": [
    "def remove_nans(df):\n",
    "    '''\n",
    "    this fucntion removes rows with nans \n",
    "    '''\n",
    "    df = df.dropna()\n",
    "    return df\n",
    "\n",
    "\n",
    "def numerical_to_categorical(df, n=2, ignore=[target_column]):\n",
    "    '''\n",
    "    change the type of the column to categorical \n",
    "    if it has <= n unique values\n",
    "    '''\n",
    "    #get columns with <=2\n",
    "    cols_with_n = df.nunique()[df.nunique() <= n].index\n",
    "    #ignore target column from this list\n",
    "    cols_with_n = [x for x in cols_with_n if x not in ignore]\n",
    "    #convert these columns to category\n",
    "    df = df.copy()\n",
    "    df[cols_with_n] = df[cols_with_n].astype('category')\n",
    "    return df\n",
    "\n",
    "\n",
    "def remove_columns_by_n(df, n=10, condition=np.number, direction='less', \n",
    "                        ignore=[target_column]):\n",
    "    '''\n",
    "   \n",
    "    Remove columns with more or less than n unique values. \n",
    "    Usually it makes sense to apply this function to columns with categorical values (see below where it is called).\n",
    "    With the default values we remove all numerical columns which have less than 10 unique values (except for the target_column).\n",
    "    '''\n",
    "    #only select cols with specified dtype\n",
    "    cols = df.select_dtypes(include=[condition]).columns\n",
    "    #this columns make up the df_new\n",
    "    df_new = df[cols]\n",
    "    #apply condition to df_new\n",
    "    if direction=='less':\n",
    "        cols_ = df_new.nunique()[df_new.nunique() < n].index\n",
    "    elif direction=='more':\n",
    "        cols_ = df_new.nunique()[df_new.nunique() > n].index\n",
    "    #for the cols_, check if target column is present, and ignore this\n",
    "    cols_ = [x for x in cols_ if x not in ignore]\n",
    "    #drop these cols_ in the final dataframe\n",
    "    df = df.drop(cols_, axis=1)\n",
    "    return df"
   ]
  },
  {
   "cell_type": "code",
   "execution_count": 12,
   "metadata": {
    "execution": {
     "iopub.execute_input": "2023-06-05T20:01:31.341131Z",
     "iopub.status.busy": "2023-06-05T20:01:31.340731Z",
     "iopub.status.idle": "2023-06-05T20:01:32.089383Z",
     "shell.execute_reply": "2023-06-05T20:01:32.088298Z",
     "shell.execute_reply.started": "2023-06-05T20:01:31.341097Z"
    },
    "id": "9033619f"
   },
   "outputs": [],
   "source": [
    "df = dataset\n",
    "df = remove_nans(df)\n",
    "df = numerical_to_categorical(df, n=2, ignore=[target_column])\n",
    "df = remove_columns_by_n(df, n=10, condition=np.number, direction='less', \n",
    "                         ignore=[target_column])\n",
    "df = remove_columns_by_n(df, n=40, condition='category', direction='more', \n",
    "                         ignore=[target_column])\n",
    "assert not df.isna().any().any(), 'There are still nans in the dataframe'"
   ]
  },
  {
   "cell_type": "code",
   "execution_count": 13,
   "metadata": {
    "execution": {
     "iopub.execute_input": "2023-06-05T20:01:32.661759Z",
     "iopub.status.busy": "2023-06-05T20:01:32.661393Z",
     "iopub.status.idle": "2023-06-05T20:01:32.677206Z",
     "shell.execute_reply": "2023-06-05T20:01:32.675980Z",
     "shell.execute_reply.started": "2023-06-05T20:01:32.661729Z"
    },
    "id": "22348559"
   },
   "outputs": [],
   "source": [
    "# TODO : make train-test split from the dataframe using the parameters above\n",
    "# expected results variable names - train_X, test_X, train_y, test_y\n",
    "\n",
    "X = df.drop(target_column, axis=1)\n",
    "Y = df[target_column]"
   ]
  },
  {
   "cell_type": "code",
   "execution_count": 14,
   "metadata": {
    "execution": {
     "iopub.execute_input": "2023-06-05T20:01:32.783794Z",
     "iopub.status.busy": "2023-06-05T20:01:32.783462Z",
     "iopub.status.idle": "2023-06-05T20:01:32.791832Z",
     "shell.execute_reply": "2023-06-05T20:01:32.790774Z",
     "shell.execute_reply.started": "2023-06-05T20:01:32.783759Z"
    }
   },
   "outputs": [
    {
     "name": "stdout",
     "output_type": "stream",
     "text": [
      "(96326, 28)\n",
      "(96326,)\n"
     ]
    }
   ],
   "source": [
    "print(X.shape)\n",
    "print(Y.shape)"
   ]
  },
  {
   "cell_type": "code",
   "execution_count": 15,
   "metadata": {
    "execution": {
     "iopub.execute_input": "2023-06-05T20:01:33.855300Z",
     "iopub.status.busy": "2023-06-05T20:01:33.854939Z",
     "iopub.status.idle": "2023-06-05T20:01:33.866888Z",
     "shell.execute_reply": "2023-06-05T20:01:33.866032Z",
     "shell.execute_reply.started": "2023-06-05T20:01:33.855269Z"
    }
   },
   "outputs": [
    {
     "data": {
      "text/plain": [
       "Index(['Was_Vehicle_Left_Hand_Drive?', 'Urban_or_Rural_Area',\n",
       "       'Sex_of_Casualty'],\n",
       "      dtype='object')"
      ]
     },
     "execution_count": 15,
     "metadata": {},
     "output_type": "execute_result"
    }
   ],
   "source": [
    "X.select_dtypes(include=['category']).columns"
   ]
  },
  {
   "cell_type": "code",
   "execution_count": 16,
   "metadata": {
    "execution": {
     "iopub.execute_input": "2023-06-05T20:01:34.500457Z",
     "iopub.status.busy": "2023-06-05T20:01:34.500048Z",
     "iopub.status.idle": "2023-06-05T20:01:34.610351Z",
     "shell.execute_reply": "2023-06-05T20:01:34.608997Z",
     "shell.execute_reply.started": "2023-06-05T20:01:34.500416Z"
    }
   },
   "outputs": [],
   "source": [
    "def encode_and_bind(original_dataframe, feature_to_encode):\n",
    "    dummies = pd.get_dummies(original_dataframe[[feature_to_encode]])\n",
    "    res = pd.concat([original_dataframe, dummies], axis=1)\n",
    "    res = res.drop([feature_to_encode], axis=1)\n",
    "    return(res) \n",
    "\n",
    "features_to_encode = ['Was_Vehicle_Left_Hand_Drive?', 'Urban_or_Rural_Area', 'Sex_of_Casualty']\n",
    "for feature in features_to_encode:\n",
    "    X = encode_and_bind(X, feature)"
   ]
  },
  {
   "cell_type": "code",
   "execution_count": 17,
   "metadata": {
    "execution": {
     "iopub.execute_input": "2023-06-05T20:01:35.193381Z",
     "iopub.status.busy": "2023-06-05T20:01:35.192519Z",
     "iopub.status.idle": "2023-06-05T20:01:35.207600Z",
     "shell.execute_reply": "2023-06-05T20:01:35.206684Z",
     "shell.execute_reply.started": "2023-06-05T20:01:35.193342Z"
    }
   },
   "outputs": [
    {
     "data": {
      "text/plain": [
       "Vehicle_Type                        float64\n",
       "Vehicle_Manoeuvre                   float64\n",
       "Vehicle_Location-Restricted_Lane    float64\n",
       "Hit_Object_in_Carriageway           float64\n",
       "Hit_Object_off_Carriageway          float64\n",
       "Age_of_Driver                       float64\n",
       "Age_Band_of_Driver                  float64\n",
       "Engine_Capacity_(CC)                float64\n",
       "Age_of_Vehicle                      float64\n",
       "Location_Easting_OSGR               float64\n",
       "Location_Northing_OSGR              float64\n",
       "Longitude                           float64\n",
       "Latitude                            float64\n",
       "Police_Force                        float64\n",
       "Number_of_Casualties                float64\n",
       "Local_Authority_(District)          float64\n",
       "1st_Road_Number                     float64\n",
       "2nd_Road_Number                     float64\n",
       "Casualty_Reference                    int64\n",
       "Age_of_Casualty                     float64\n",
       "Age_Band_of_Casualty                float64\n",
       "Pedestrian_Location                 float64\n",
       "Pedestrian_Movement                 float64\n",
       "Casualty_Type                         int64\n",
       "Casualty_IMD_Decile                 float64\n",
       "Was_Vehicle_Left_Hand_Drive?_1.0      uint8\n",
       "Was_Vehicle_Left_Hand_Drive?_2.0      uint8\n",
       "Urban_or_Rural_Area_1.0               uint8\n",
       "Urban_or_Rural_Area_2.0               uint8\n",
       "Sex_of_Casualty_1.0                   uint8\n",
       "Sex_of_Casualty_2.0                   uint8\n",
       "dtype: object"
      ]
     },
     "execution_count": 17,
     "metadata": {},
     "output_type": "execute_result"
    }
   ],
   "source": [
    "X.dtypes"
   ]
  },
  {
   "cell_type": "code",
   "execution_count": 18,
   "metadata": {
    "execution": {
     "iopub.execute_input": "2023-06-05T20:01:35.748879Z",
     "iopub.status.busy": "2023-06-05T20:01:35.748516Z",
     "iopub.status.idle": "2023-06-05T20:01:35.789486Z",
     "shell.execute_reply": "2023-06-05T20:01:35.788515Z",
     "shell.execute_reply.started": "2023-06-05T20:01:35.748847Z"
    }
   },
   "outputs": [],
   "source": [
    "train_X, test_X, train_y, test_y = train_test_split(X, Y, test_size=test_size, random_state=random_state)"
   ]
  },
  {
   "cell_type": "code",
   "execution_count": 19,
   "metadata": {
    "execution": {
     "iopub.execute_input": "2023-06-05T20:01:36.877420Z",
     "iopub.status.busy": "2023-06-05T20:01:36.877064Z",
     "iopub.status.idle": "2023-06-05T20:01:36.882836Z",
     "shell.execute_reply": "2023-06-05T20:01:36.881828Z",
     "shell.execute_reply.started": "2023-06-05T20:01:36.877391Z"
    }
   },
   "outputs": [
    {
     "name": "stdout",
     "output_type": "stream",
     "text": [
      "(77060, 31)\n",
      "(19266, 31)\n",
      "(77060,)\n",
      "(19266,)\n"
     ]
    }
   ],
   "source": [
    "print(train_X.shape)\n",
    "print(test_X.shape)\n",
    "print(train_y.shape)\n",
    "print(test_y.shape)"
   ]
  },
  {
   "cell_type": "markdown",
   "metadata": {
    "id": "77f002d6"
   },
   "source": [
    "**TODO :**  \n",
    "\n",
    "* Did you split the dataset in a stratified manner or not? Why?\n",
    "* How did the dataset dimensions change after preprocessing?\n",
    "* How many unique values are in the response variable? "
   ]
  },
  {
   "cell_type": "markdown",
   "metadata": {
    "id": "f309f4d6"
   },
   "source": [
    "## Task 1: Create a GradientBoostingClassifier"
   ]
  },
  {
   "cell_type": "code",
   "execution_count": 20,
   "metadata": {
    "execution": {
     "iopub.execute_input": "2023-06-05T20:01:39.561061Z",
     "iopub.status.busy": "2023-06-05T20:01:39.560331Z",
     "iopub.status.idle": "2023-06-05T20:02:51.352600Z",
     "shell.execute_reply": "2023-06-05T20:02:51.351607Z",
     "shell.execute_reply.started": "2023-06-05T20:01:39.561017Z"
    }
   },
   "outputs": [
    {
     "name": "stdout",
     "output_type": "stream",
     "text": [
      "CPU times: user 1min 11s, sys: 33.4 ms, total: 1min 11s\n",
      "Wall time: 1min 11s\n"
     ]
    }
   ],
   "source": [
    "%%time\n",
    "## TODO : define the GradientBoostingClassifier, \n",
    "## train it on the train set and predict on the test set\n",
    "clf = GradientBoostingClassifier().fit(train_X, train_y)\n",
    "y_pred = clf.predict(test_X)"
   ]
  },
  {
   "cell_type": "code",
   "execution_count": 21,
   "metadata": {
    "execution": {
     "iopub.execute_input": "2023-06-05T20:02:51.356163Z",
     "iopub.status.busy": "2023-06-05T20:02:51.354294Z",
     "iopub.status.idle": "2023-06-05T20:02:51.362454Z",
     "shell.execute_reply": "2023-06-05T20:02:51.361389Z",
     "shell.execute_reply.started": "2023-06-05T20:02:51.356127Z"
    }
   },
   "outputs": [
    {
     "data": {
      "text/plain": [
       "array(['1.0', '1.0', '1.0', ..., '2.0', '1.0', '1.0'], dtype=object)"
      ]
     },
     "execution_count": 21,
     "metadata": {},
     "output_type": "execute_result"
    }
   ],
   "source": [
    "y_pred"
   ]
  },
  {
   "cell_type": "code",
   "execution_count": 22,
   "metadata": {
    "execution": {
     "iopub.execute_input": "2023-06-05T20:04:09.983058Z",
     "iopub.status.busy": "2023-06-05T20:04:09.982667Z",
     "iopub.status.idle": "2023-06-05T20:04:10.405828Z",
     "shell.execute_reply": "2023-06-05T20:04:10.404682Z",
     "shell.execute_reply.started": "2023-06-05T20:04:09.983025Z"
    }
   },
   "outputs": [
    {
     "name": "stdout",
     "output_type": "stream",
     "text": [
      "Accuracy score: 0.774\n",
      "Recall score: 0.774\n",
      "Precision score: 0.769\n"
     ]
    }
   ],
   "source": [
    "## TODO : print  accuracy, precision, recall\n",
    "## Hint : use functions from sklearn metrics\n",
    "print(\"Accuracy score: {0:.3f}\".format(accuracy_score(test_y, y_pred)))\n",
    "print(\"Recall score: {0:.3f}\".format(recall_score(test_y, y_pred, average='weighted')))\n",
    "print(\"Precision score: {0:.3f}\".format(precision_score(test_y, y_pred, average='weighted')))"
   ]
  },
  {
   "cell_type": "code",
   "execution_count": 23,
   "metadata": {
    "execution": {
     "iopub.execute_input": "2023-06-05T20:04:10.874545Z",
     "iopub.status.busy": "2023-06-05T20:04:10.873823Z",
     "iopub.status.idle": "2023-06-05T20:04:10.881699Z",
     "shell.execute_reply": "2023-06-05T20:04:10.880610Z",
     "shell.execute_reply.started": "2023-06-05T20:04:10.874511Z"
    },
    "id": "598f0ffa"
   },
   "outputs": [],
   "source": [
    "## TODO : Write a function which iterates over trees_amount, \n",
    "## train a classifier with a specified amount of trees and print accuracy, precision, and recall.\n",
    "## Note: the calculations may take several minutes (depending on the computer efficiency).\n",
    "\n",
    "def trees_amount_exploration(train_X, train_y, test_X, test_y, trees_amount=[1, 20, 50, 100]):\n",
    "    for n_tree in trees_amount:\n",
    "        clf = GradientBoostingClassifier(n_estimators=n_tree)\n",
    "        clf.fit(train_X, train_y)\n",
    "        y_pred = clf.predict(test_X)\n",
    "        \n",
    "        print(\"Trees amount: \", n_tree)\n",
    "        print(\"Accuracy score: {0:.3f}\".format(accuracy_score(test_y, y_pred)))\n",
    "        print(\"Recall score: {0:.3f}\".format(recall_score(test_y, y_pred, average='weighted')))\n",
    "        print(\"Precision score: {0:.3f}\".format(precision_score(test_y, y_pred, average='weighted')))\n"
   ]
  },
  {
   "cell_type": "code",
   "execution_count": 24,
   "metadata": {
    "execution": {
     "iopub.execute_input": "2023-06-05T20:04:11.738111Z",
     "iopub.status.busy": "2023-06-05T20:04:11.737333Z",
     "iopub.status.idle": "2023-06-05T20:06:17.386350Z",
     "shell.execute_reply": "2023-06-05T20:06:17.385162Z",
     "shell.execute_reply.started": "2023-06-05T20:04:11.738067Z"
    },
    "id": "qcnxg4InEkRl"
   },
   "outputs": [
    {
     "name": "stdout",
     "output_type": "stream",
     "text": [
      "Trees amount:  1\n",
      "Accuracy score: 0.652\n",
      "Recall score: 0.652\n",
      "Precision score: 0.425\n"
     ]
    },
    {
     "name": "stderr",
     "output_type": "stream",
     "text": [
      "/opt/conda/lib/python3.10/site-packages/sklearn/metrics/_classification.py:1344: UndefinedMetricWarning: Precision is ill-defined and being set to 0.0 in labels with no predicted samples. Use `zero_division` parameter to control this behavior.\n",
      "  _warn_prf(average, modifier, msg_start, len(result))\n"
     ]
    },
    {
     "name": "stdout",
     "output_type": "stream",
     "text": [
      "Trees amount:  20\n",
      "Accuracy score: 0.747\n",
      "Recall score: 0.747\n",
      "Precision score: 0.740\n",
      "Trees amount:  50\n",
      "Accuracy score: 0.766\n",
      "Recall score: 0.766\n",
      "Precision score: 0.760\n",
      "Trees amount:  100\n",
      "Accuracy score: 0.774\n",
      "Recall score: 0.774\n",
      "Precision score: 0.769\n",
      "CPU times: user 2min 5s, sys: 91.3 ms, total: 2min 5s\n",
      "Wall time: 2min 5s\n"
     ]
    }
   ],
   "source": [
    "%%time\n",
    "trees_amount_exploration(train_X, train_y, test_X, test_y)"
   ]
  },
  {
   "cell_type": "code",
   "execution_count": 25,
   "metadata": {
    "execution": {
     "iopub.execute_input": "2023-06-05T20:06:17.390209Z",
     "iopub.status.busy": "2023-06-05T20:06:17.388648Z",
     "iopub.status.idle": "2023-06-05T20:06:17.398736Z",
     "shell.execute_reply": "2023-06-05T20:06:17.397689Z",
     "shell.execute_reply.started": "2023-06-05T20:06:17.390164Z"
    }
   },
   "outputs": [],
   "source": [
    "## TODO : Write a function which iterates over the learning rate, \n",
    "## train a classifier with a specified amount of trees and print accuracy, precision, and recall.\n",
    "## Note: the calculations may take several minutes (depending on the computer efficiency).\n",
    "\n",
    "def learning_rate_exploration(train_X, train_y, test_X, test_y, learning_rates = [0.1, 0.2, 0.3, 0.4, 0.5], trees_amount=100):\n",
    "    for lr in learning_rates:\n",
    "        clf = GradientBoostingClassifier(n_estimators=trees_amount, learning_rate=lr)\n",
    "        clf.fit(train_X, train_y)\n",
    "        y_pred = clf.predict(test_X)\n",
    "        \n",
    "        print(\"Learning rate: \", lr)\n",
    "        print(\"Accuracy score: {0:.3f}\".format(accuracy_score(test_y, y_pred)))\n",
    "        print(\"Recall score: {0:.3f}\".format(recall_score(test_y, y_pred, average='weighted')))\n",
    "        print(\"Precision score: {0:.3f}\".format(precision_score(test_y, y_pred, average='weighted')))"
   ]
  },
  {
   "cell_type": "code",
   "execution_count": 26,
   "metadata": {
    "execution": {
     "iopub.execute_input": "2023-06-05T20:06:17.401111Z",
     "iopub.status.busy": "2023-06-05T20:06:17.400467Z",
     "iopub.status.idle": "2023-06-05T20:12:14.965375Z",
     "shell.execute_reply": "2023-06-05T20:12:14.964178Z",
     "shell.execute_reply.started": "2023-06-05T20:06:17.401074Z"
    }
   },
   "outputs": [
    {
     "name": "stdout",
     "output_type": "stream",
     "text": [
      "Learning rate:  0.2\n",
      "Accuracy score: 0.781\n",
      "Recall score: 0.781\n",
      "Precision score: 0.776\n",
      "Learning rate:  0.3\n",
      "Accuracy score: 0.775\n",
      "Recall score: 0.775\n",
      "Precision score: 0.771\n",
      "Learning rate:  0.4\n",
      "Accuracy score: 0.778\n",
      "Recall score: 0.778\n",
      "Precision score: 0.774\n",
      "Learning rate:  0.5\n",
      "Accuracy score: 0.783\n",
      "Recall score: 0.783\n",
      "Precision score: 0.779\n",
      "CPU times: user 5min 56s, sys: 245 ms, total: 5min 56s\n",
      "Wall time: 5min 57s\n"
     ]
    }
   ],
   "source": [
    "%%time\n",
    "learning_rate_exploration(train_X, train_y, test_X, test_y)"
   ]
  },
  {
   "cell_type": "code",
   "execution_count": 27,
   "metadata": {
    "execution": {
     "iopub.execute_input": "2023-06-05T20:12:14.969890Z",
     "iopub.status.busy": "2023-06-05T20:12:14.969274Z",
     "iopub.status.idle": "2023-06-05T20:12:14.977955Z",
     "shell.execute_reply": "2023-06-05T20:12:14.977075Z",
     "shell.execute_reply.started": "2023-06-05T20:12:14.969849Z"
    },
    "id": "T-akqJfbEkVF"
   },
   "outputs": [],
   "source": [
    "## TODO : Write a function which iterates over different depths, \n",
    "## train a classifier with a specified depth and print accuracy, precision, and recall\n",
    "## Set trees_amount= 50 to make the calculations faster\n",
    "## Note: the calculations may take several minutes (depending on the computer efficiency).\n",
    "\n",
    "def max_depth_exploration(train_X, train_y, test_X, test_y, depths=[1,2,3,5]):\n",
    "    for depth in depths:\n",
    "        clf = GradientBoostingClassifier(n_estimators=50, max_depth = depth)\n",
    "        clf.fit(train_X, train_y)\n",
    "        y_pred = clf.predict(test_X)\n",
    "        \n",
    "        print(\"Depth: \", depth)\n",
    "        print(\"Accuracy score: {0:.3f}\".format(accuracy_score(test_y, y_pred)))\n",
    "        print(\"Recall score: {0:.3f}\".format(recall_score(test_y, y_pred, average='weighted')))\n",
    "        print(\"Precision score: {0:.3f}\".format(precision_score(test_y, y_pred, average='weighted')))"
   ]
  },
  {
   "cell_type": "code",
   "execution_count": 28,
   "metadata": {
    "execution": {
     "iopub.execute_input": "2023-06-05T20:12:14.979860Z",
     "iopub.status.busy": "2023-06-05T20:12:14.979398Z",
     "iopub.status.idle": "2023-06-05T20:14:27.889738Z",
     "shell.execute_reply": "2023-06-05T20:14:27.887510Z",
     "shell.execute_reply.started": "2023-06-05T20:12:14.979818Z"
    },
    "id": "3oFAnFOnEkdX"
   },
   "outputs": [
    {
     "name": "stdout",
     "output_type": "stream",
     "text": [
      "Depth:  1\n",
      "Accuracy score: 0.747\n",
      "Recall score: 0.747\n",
      "Precision score: 0.738\n"
     ]
    },
    {
     "name": "stderr",
     "output_type": "stream",
     "text": [
      "/opt/conda/lib/python3.10/site-packages/sklearn/metrics/_classification.py:1344: UndefinedMetricWarning: Precision is ill-defined and being set to 0.0 in labels with no predicted samples. Use `zero_division` parameter to control this behavior.\n",
      "  _warn_prf(average, modifier, msg_start, len(result))\n"
     ]
    },
    {
     "name": "stdout",
     "output_type": "stream",
     "text": [
      "Depth:  2\n",
      "Accuracy score: 0.749\n",
      "Recall score: 0.749\n",
      "Precision score: 0.742\n",
      "Depth:  3\n",
      "Accuracy score: 0.766\n",
      "Recall score: 0.766\n",
      "Precision score: 0.760\n",
      "Depth:  5\n",
      "Accuracy score: 0.784\n",
      "Recall score: 0.784\n",
      "Precision score: 0.780\n"
     ]
    }
   ],
   "source": [
    "max_depth_exploration(train_X, train_y, test_X, test_y)"
   ]
  },
  {
   "cell_type": "markdown",
   "metadata": {
    "id": "75fc86d1"
   },
   "source": [
    "**TODO :**   \n",
    "\n",
    "* How does the max_depth parameter influence the results? \n",
    "* How does the learning rate influence the results?\n",
    "* How does the number of trees in the ensemble influence the results?\n",
    "* Try to improve the accuracy by combining different max_depth, learning rate and number of trees. How well does your best model perform?"
   ]
  },
  {
   "cell_type": "code",
   "execution_count": 29,
   "metadata": {
    "execution": {
     "iopub.execute_input": "2023-06-05T20:14:27.892069Z",
     "iopub.status.busy": "2023-06-05T20:14:27.891645Z",
     "iopub.status.idle": "2023-06-05T20:14:27.901026Z",
     "shell.execute_reply": "2023-06-05T20:14:27.898939Z",
     "shell.execute_reply.started": "2023-06-05T20:14:27.892032Z"
    },
    "id": "aa0c330e"
   },
   "outputs": [],
   "source": [
    "## TODO -  sklearn trees have the attribute feature_importances_\n",
    "## make a plot, to show relative importance (maximum is 1) of your classifier and\n",
    "## order features from most relevant feature to the least relevant in the plot\n",
    "\n",
    "def plot_explained_variance(clf, X):\n",
    "    feature_importance = clf.feature_importances_\n",
    "    #returns the indices that would sort an array\n",
    "    sorted_idx = np.argsort(feature_importance)\n",
    "\n",
    "    #plotting\n",
    "    featfig = plt.figure()\n",
    "    featax = featfig.add_subplot(1, 1, 1)\n",
    "    pos = np.arange(sorted_idx.shape[0]) + .5\n",
    "    featax.barh(pos, feature_importance[sorted_idx], align='center')\n",
    "    featax.set_yticks(pos)\n",
    "    featax.set_yticklabels(np.array(X.columns)[sorted_idx], fontsize=8)\n",
    "    \n",
    "    plt.title('Feature Importance')\n",
    "    plt.ylabel('Features')\n",
    "\n",
    "    plt.tight_layout()   \n",
    "    plt.show()"
   ]
  },
  {
   "cell_type": "code",
   "execution_count": 30,
   "metadata": {
    "execution": {
     "iopub.execute_input": "2023-06-05T20:14:27.903400Z",
     "iopub.status.busy": "2023-06-05T20:14:27.902589Z",
     "iopub.status.idle": "2023-06-05T20:16:21.848947Z",
     "shell.execute_reply": "2023-06-05T20:16:21.848049Z",
     "shell.execute_reply.started": "2023-06-05T20:14:27.903346Z"
    },
    "id": "6cf90239"
   },
   "outputs": [
    {
     "data": {
      "image/png": "[encoded data removed]",
      "text/plain": [
       "<Figure size 640x480 with 1 Axes>"
      ]
     },
     "metadata": {},
     "output_type": "display_data"
    },
    {
     "name": "stdout",
     "output_type": "stream",
     "text": [
      "CPU times: user 1min 53s, sys: 239 ms, total: 1min 53s\n",
      "Wall time: 1min 53s\n"
     ]
    }
   ],
   "source": [
    "%%time\n",
    "## TODO : display the plot\n",
    "clf = GradientBoostingClassifier(n_estimators=100, learning_rate = 0.5, max_depth = 5).fit(train_X, train_y)\n",
    "plot_explained_variance(clf, X)"
   ]
  },
  {
   "cell_type": "markdown",
   "metadata": {
    "id": "2e0872d8"
   },
   "source": [
    "**TODO :** Interpret the plot.\n",
    "\n",
    "**TODO (optional):** Try to remove the least-important features and see what happens. Does to quality improve or degrade? Why? "
   ]
  },
  {
   "cell_type": "markdown",
   "metadata": {
    "id": "jhE75y_UN7Qx"
   },
   "source": [
    "## Prepare for deep learning\n",
    "### Add all the necessary training functions \n",
    "*You can reuse them from previous practical exercises*"
   ]
  },
  {
   "cell_type": "code",
   "execution_count": 31,
   "metadata": {
    "execution": {
     "iopub.execute_input": "2023-06-05T20:16:21.850326Z",
     "iopub.status.busy": "2023-06-05T20:16:21.849965Z",
     "iopub.status.idle": "2023-06-05T20:16:21.856386Z",
     "shell.execute_reply": "2023-06-05T20:16:21.855418Z",
     "shell.execute_reply.started": "2023-06-05T20:16:21.850291Z"
    },
    "id": "LfDLPO2QODES"
   },
   "outputs": [],
   "source": [
    "## TODO write a function that calculates the accuracy\n",
    "## Hint - you can use yours from practical 3 \n",
    "\n",
    "def accuracy(correct, total): \n",
    "    \"\"\"\n",
    "    function to calculate the accuracy given the\n",
    "        correct: number of correctly classified samples\n",
    "        total: total number of samples\n",
    "    returns the ratio\n",
    "    \"\"\"\n",
    "    return correct/total"
   ]
  },
  {
   "cell_type": "code",
   "execution_count": 32,
   "metadata": {
    "execution": {
     "iopub.execute_input": "2023-06-05T20:16:21.858663Z",
     "iopub.status.busy": "2023-06-05T20:16:21.857796Z",
     "iopub.status.idle": "2023-06-05T20:16:21.876011Z",
     "shell.execute_reply": "2023-06-05T20:16:21.875400Z",
     "shell.execute_reply.started": "2023-06-05T20:16:21.858629Z"
    },
    "id": "EVe7SFnrODHP"
   },
   "outputs": [],
   "source": [
    "## TODO : Define a train and validation functions here\n",
    "## Hint - you can use yours from practical 3 \n",
    "\n",
    "def train(dataloader, optimizer, model, loss_fn, device):\n",
    "    \"\"\" method to train the model \"\"\"\n",
    "    model_in_gpu = model.to(device)\n",
    "    model_in_gpu.train()\n",
    "    losses_train = []\n",
    "    correct = 0\n",
    "    total = 0\n",
    "    for i, (x, y) in enumerate(dataloader):\n",
    "            # delete the gradients from last training iteration\n",
    "            optimizer.zero_grad()\n",
    "        \n",
    "\n",
    "            # Forward pass: get predictions\n",
    "            y_pred = model_in_gpu(x.to(device))\n",
    "\n",
    "            # Compute loss\n",
    "            loss = loss_fn(y_pred,y.to(device))\n",
    "            losses_train.append(loss.cpu().detach().numpy())\n",
    "            \n",
    "            #calculate accuracy\n",
    "            correct += torch.sum((torch.argmax(y_pred,1) == y.to(device)))\n",
    "            #add the batchsize to the total\n",
    "            total += x.shape[0]\n",
    "\n",
    "            # Backward pass -> calculate gradients, update weights\n",
    "            loss.backward()\n",
    "            optimizer.step()\n",
    "        \n",
    "    return (np.mean(losses_train), accuracy(correct.cpu().detach().numpy(),total))\n",
    "\n",
    "\n",
    "def validate(dataloader, model, loss_fn, device):\n",
    "    \"\"\" method to compute the metrics on the validation set \"\"\"\n",
    "    # TODO: write a validation function that calculates the loss and accuracy on the validation set\n",
    "    # you can also combine it with the training function:\n",
    "    model_in_gpu = model.to(device)\n",
    "    model_in_gpu.eval()\n",
    "    loss_val = []\n",
    "    correct = 0\n",
    "    total = 0\n",
    "    for i, (x, y) in enumerate(dataloader):\n",
    "        # Forward pass: get predictions\n",
    "        with torch.no_grad():\n",
    "            y_pred = model_in_gpu(x.to(device))\n",
    "        \n",
    "\n",
    "        #torch.argmax(ypred,1) calculates predicted class for each sample in batch\n",
    "        correct += torch.sum((torch.argmax(y_pred,1) == y.to(device)))\n",
    "        #add the batchsize to the total\n",
    "        total += x.shape[0]\n",
    "            \n",
    "        # Compute loss\n",
    "        loss = loss_fn(y_pred,y.to(device))\n",
    "        loss_val.append(loss.cpu().detach().numpy())\n",
    "\n",
    "            \n",
    "    return (np.mean(loss_val), accuracy(correct.cpu().detach().numpy(),total))"
   ]
  },
  {
   "cell_type": "code",
   "execution_count": 33,
   "metadata": {
    "execution": {
     "iopub.execute_input": "2023-06-05T20:16:21.880699Z",
     "iopub.status.busy": "2023-06-05T20:16:21.880418Z",
     "iopub.status.idle": "2023-06-05T20:16:21.893872Z",
     "shell.execute_reply": "2023-06-05T20:16:21.893054Z",
     "shell.execute_reply.started": "2023-06-05T20:16:21.880675Z"
    },
    "id": "pzGM0bPqxw3V"
   },
   "outputs": [],
   "source": [
    "#TODO write a run_training function that \n",
    "# - calls the train and validate functions for each epoch\n",
    "# - saves the train_losses, val_losses, train_accs, val_accs as arrays for each epoch\n",
    "## Hint - you can use yours from practical 3 \n",
    "from tqdm import trange\n",
    "\n",
    "\n",
    "def run_training(model, optimizer, loss_function, device, num_epochs, train_dataloader, val_dataloader):\n",
    "    \"\"\" method to run the training procedure \"\"\"\n",
    "    train_losses = []\n",
    "    train_accs = []\n",
    "    val_losses = []\n",
    "    val_accs = []\n",
    "    for epoch in trange(num_epochs):\n",
    "        train_loss, train_acc = train(train_dataloader, optimizer, model, loss_fn, device)\n",
    "        val_loss, val_acc = validate(val_dataloader, model, loss_fn, device)\n",
    "        train_losses.append(train_loss)\n",
    "        train_accs.append(train_acc)\n",
    "        val_losses.append(val_loss)\n",
    "        val_accs.append(val_acc)\n",
    "    \n",
    "    return (np.array(train_losses),np.array(train_accs),np.array(val_losses),np.array(val_accs))"
   ]
  },
  {
   "cell_type": "code",
   "execution_count": 34,
   "metadata": {
    "execution": {
     "iopub.execute_input": "2023-06-05T20:16:21.896257Z",
     "iopub.status.busy": "2023-06-05T20:16:21.895595Z",
     "iopub.status.idle": "2023-06-05T20:16:21.907403Z",
     "shell.execute_reply": "2023-06-05T20:16:21.906674Z",
     "shell.execute_reply.started": "2023-06-05T20:16:21.896226Z"
    },
    "id": "ngflrAEJxw5t"
   },
   "outputs": [],
   "source": [
    "# TODO write a plot function \n",
    "## Hint - you can use yours from practical 2 or 3 \n",
    "def plot(train_metric, val_metric, metric):\n",
    "    epochs = np.arange(1,num_epochs +1)\n",
    "    plt.plot(epochs,train_metric, color = \"tab:blue\", ls = \"--\", marker = 'o', label = \"Training\")\n",
    "    plt.plot(epochs,val_metric, color = \"tab:orange\", ls = \"--\",marker = 'o', label = \"Validation\")\n",
    "    plt.xlabel(\"Epoch\")\n",
    "    plt.ylabel(\"{}\".format(metric))\n",
    "    plt.title(\"Epoch vs. {}\".format(metric))\n",
    "    plt.legend()\n",
    "    plt.show()"
   ]
  },
  {
   "cell_type": "markdown",
   "metadata": {
    "id": "9iqaRi2xRADg"
   },
   "source": [
    "### Convert a pandas dataframe to a PyTorch dataset"
   ]
  },
  {
   "cell_type": "code",
   "execution_count": 35,
   "metadata": {
    "execution": {
     "iopub.execute_input": "2023-06-05T20:16:21.909114Z",
     "iopub.status.busy": "2023-06-05T20:16:21.908398Z",
     "iopub.status.idle": "2023-06-05T20:16:21.924232Z",
     "shell.execute_reply": "2023-06-05T20:16:21.923312Z",
     "shell.execute_reply.started": "2023-06-05T20:16:21.909088Z"
    },
    "id": "e3dcbc2c"
   },
   "outputs": [],
   "source": [
    "## TODO : Define the dataset, apply normalization in the getitem method\n",
    "## Hint : you can use/adapt your code from practical 2\n",
    "class TabularDataset(torch.utils.data.Dataset):\n",
    "    def __init__(self, df_x, df_y, mean=None, std=None, normalise=True):\n",
    "        '''\n",
    "        TODO: save params to self attributes, \n",
    "        x is data without target column\n",
    "        y is target column\n",
    "        transform df to_numpy\n",
    "        ''' \n",
    "        self.x = df_x.to_numpy()\n",
    "        self.y = df_y.to_numpy()\n",
    "        self.mean = np.array(mean)\n",
    "        self.std = np.array(std)\n",
    "        self.normalise = normalise\n",
    "    \n",
    "    \n",
    "    def __len__(self):\n",
    "        # TODO: return the length of the whole dataset\n",
    "        return len(self.x)\n",
    "    \n",
    "    def __getitem__(self, index):\n",
    "        ## TODO: return X, y by index, normalized if needed\n",
    "        data = self.x[index]\n",
    "        if self.normalise and self.mean is not None and self.std is not None:\n",
    "            data = (data - self.mean) / self.std\n",
    "        return data, self.y[index]\n",
    "    "
   ]
  },
  {
   "cell_type": "code",
   "execution_count": 36,
   "metadata": {
    "execution": {
     "iopub.execute_input": "2023-06-05T20:16:21.925738Z",
     "iopub.status.busy": "2023-06-05T20:16:21.925364Z",
     "iopub.status.idle": "2023-06-05T20:16:21.945942Z",
     "shell.execute_reply": "2023-06-05T20:16:21.944786Z",
     "shell.execute_reply.started": "2023-06-05T20:16:21.925707Z"
    }
   },
   "outputs": [
    {
     "data": {
      "text/plain": [
       "2         0\n",
       "6         0\n",
       "7         0\n",
       "8         0\n",
       "12        1\n",
       "         ..\n",
       "328127    1\n",
       "328128    0\n",
       "328129    0\n",
       "328130    1\n",
       "328131    1\n",
       "Name: Sex_of_Driver, Length: 96326, dtype: category\n",
       "Categories (3, int64): [0, 1, 2]"
      ]
     },
     "execution_count": 36,
     "metadata": {},
     "output_type": "execute_result"
    }
   ],
   "source": [
    "#change Y to datatype integer, and should start from 0\n",
    "mappings = {\n",
    "   '1.0': 0,\n",
    "   '2.0': 1,\n",
    "   '3.0': 2\n",
    "}\n",
    "df[target_column] = df[target_column].apply(lambda x: mappings[x])\n",
    "df[target_column] = pd.Categorical(df[target_column])\n",
    "df[target_column]"
   ]
  },
  {
   "cell_type": "code",
   "execution_count": 37,
   "metadata": {
    "execution": {
     "iopub.execute_input": "2023-06-05T20:16:21.948573Z",
     "iopub.status.busy": "2023-06-05T20:16:21.947825Z",
     "iopub.status.idle": "2023-06-05T20:16:21.960288Z",
     "shell.execute_reply": "2023-06-05T20:16:21.959430Z",
     "shell.execute_reply.started": "2023-06-05T20:16:21.948540Z"
    }
   },
   "outputs": [
    {
     "data": {
      "text/plain": [
       "2         1.0\n",
       "6         1.0\n",
       "7         1.0\n",
       "8         1.0\n",
       "12        2.0\n",
       "         ... \n",
       "328127    2.0\n",
       "328128    1.0\n",
       "328129    1.0\n",
       "328130    2.0\n",
       "328131    2.0\n",
       "Name: Sex_of_Driver, Length: 96326, dtype: category\n",
       "Categories (3, object): ['1.0', '2.0', '3.0']"
      ]
     },
     "execution_count": 37,
     "metadata": {},
     "output_type": "execute_result"
    }
   ],
   "source": [
    "Y"
   ]
  },
  {
   "cell_type": "code",
   "execution_count": 38,
   "metadata": {
    "execution": {
     "iopub.execute_input": "2023-06-05T20:16:21.962039Z",
     "iopub.status.busy": "2023-06-05T20:16:21.961689Z",
     "iopub.status.idle": "2023-06-05T20:16:21.988838Z",
     "shell.execute_reply": "2023-06-05T20:16:21.987965Z",
     "shell.execute_reply.started": "2023-06-05T20:16:21.962007Z"
    }
   },
   "outputs": [
    {
     "data": {
      "text/plain": [
       "Vehicle_Type                        float64\n",
       "Vehicle_Manoeuvre                   float64\n",
       "Vehicle_Location-Restricted_Lane    float64\n",
       "Hit_Object_in_Carriageway           float64\n",
       "Hit_Object_off_Carriageway          float64\n",
       "Age_of_Driver                       float64\n",
       "Age_Band_of_Driver                  float64\n",
       "Engine_Capacity_(CC)                float64\n",
       "Age_of_Vehicle                      float64\n",
       "Location_Easting_OSGR               float64\n",
       "Location_Northing_OSGR              float64\n",
       "Longitude                           float64\n",
       "Latitude                            float64\n",
       "Police_Force                        float64\n",
       "Number_of_Casualties                float64\n",
       "Local_Authority_(District)          float64\n",
       "1st_Road_Number                     float64\n",
       "2nd_Road_Number                     float64\n",
       "Casualty_Reference                  float64\n",
       "Age_of_Casualty                     float64\n",
       "Age_Band_of_Casualty                float64\n",
       "Pedestrian_Location                 float64\n",
       "Pedestrian_Movement                 float64\n",
       "Casualty_Type                       float64\n",
       "Casualty_IMD_Decile                 float64\n",
       "Was_Vehicle_Left_Hand_Drive?_1.0    float64\n",
       "Was_Vehicle_Left_Hand_Drive?_2.0    float64\n",
       "Urban_or_Rural_Area_1.0             float64\n",
       "Urban_or_Rural_Area_2.0             float64\n",
       "Sex_of_Casualty_1.0                 float64\n",
       "Sex_of_Casualty_2.0                 float64\n",
       "dtype: object"
      ]
     },
     "execution_count": 38,
     "metadata": {},
     "output_type": "execute_result"
    }
   ],
   "source": [
    "#convert all X to float64, not sure what is meant by all numerical\n",
    "cols_list = X.columns\n",
    "X_new = X[cols_list].astype('float64')\n",
    "X_new.dtypes"
   ]
  },
  {
   "cell_type": "code",
   "execution_count": 39,
   "metadata": {
    "execution": {
     "iopub.execute_input": "2023-06-05T20:16:21.990561Z",
     "iopub.status.busy": "2023-06-05T20:16:21.990225Z",
     "iopub.status.idle": "2023-06-05T20:16:22.019827Z",
     "shell.execute_reply": "2023-06-05T20:16:22.018954Z",
     "shell.execute_reply.started": "2023-06-05T20:16:21.990529Z"
    }
   },
   "outputs": [],
   "source": [
    "Y_new = df[target_column]\n",
    "train_X, test_X, train_y, test_y = train_test_split(X, Y_new, test_size=test_size, random_state=random_state)"
   ]
  },
  {
   "cell_type": "code",
   "execution_count": 40,
   "metadata": {
    "execution": {
     "iopub.execute_input": "2023-06-05T20:16:22.021760Z",
     "iopub.status.busy": "2023-06-05T20:16:22.021403Z",
     "iopub.status.idle": "2023-06-05T20:16:22.028724Z",
     "shell.execute_reply": "2023-06-05T20:16:22.027876Z",
     "shell.execute_reply.started": "2023-06-05T20:16:22.021725Z"
    }
   },
   "outputs": [
    {
     "data": {
      "text/plain": [
       "[0, 1, 2]\n",
       "Categories (3, int64): [0, 1, 2]"
      ]
     },
     "execution_count": 40,
     "metadata": {},
     "output_type": "execute_result"
    }
   ],
   "source": [
    "test_y.unique()"
   ]
  },
  {
   "cell_type": "code",
   "execution_count": 41,
   "metadata": {
    "execution": {
     "iopub.execute_input": "2023-06-05T20:16:22.031143Z",
     "iopub.status.busy": "2023-06-05T20:16:22.030414Z",
     "iopub.status.idle": "2023-06-05T20:16:22.043928Z",
     "shell.execute_reply": "2023-06-05T20:16:22.042932Z",
     "shell.execute_reply.started": "2023-06-05T20:16:22.031106Z"
    }
   },
   "outputs": [
    {
     "data": {
      "text/plain": [
       "[0, 1, 2]\n",
       "Categories (3, int64): [0, 1, 2]"
      ]
     },
     "execution_count": 41,
     "metadata": {},
     "output_type": "execute_result"
    }
   ],
   "source": [
    "train_y.unique()"
   ]
  },
  {
   "cell_type": "code",
   "execution_count": 42,
   "metadata": {
    "execution": {
     "iopub.execute_input": "2023-06-05T20:16:22.046136Z",
     "iopub.status.busy": "2023-06-05T20:16:22.045719Z",
     "iopub.status.idle": "2023-06-05T20:16:22.053147Z",
     "shell.execute_reply": "2023-06-05T20:16:22.052178Z",
     "shell.execute_reply.started": "2023-06-05T20:16:22.046104Z"
    }
   },
   "outputs": [],
   "source": [
    "# train_X = torch.FloatTensor(train_X)\n",
    "# test_X = torch.FloatTensor(test_X)\n",
    "# train_y = torch.LongTensor(train_y)\n",
    "# test_y = torch.LongTensor(test_y)"
   ]
  },
  {
   "cell_type": "code",
   "execution_count": 43,
   "metadata": {
    "execution": {
     "iopub.execute_input": "2023-06-05T20:16:22.055204Z",
     "iopub.status.busy": "2023-06-05T20:16:22.054840Z",
     "iopub.status.idle": "2023-06-05T20:16:22.092585Z",
     "shell.execute_reply": "2023-06-05T20:16:22.091605Z",
     "shell.execute_reply.started": "2023-06-05T20:16:22.055172Z"
    },
    "id": "3jJXxpF-KIpz"
   },
   "outputs": [],
   "source": [
    "## TODO : calculate mean and std for the train set\n",
    "## Hint : be careful with categorical values. Convert them them to numerical \n",
    "## Hint : the response variable should be of datatype integer\n",
    "mean_train = train_X.mean(axis=0) #calculates mean for one column so for each feature\n",
    "std_train = train_X.std(axis=0) #calculates std for each column"
   ]
  },
  {
   "cell_type": "code",
   "execution_count": 44,
   "metadata": {
    "execution": {
     "iopub.execute_input": "2023-06-05T20:16:22.094483Z",
     "iopub.status.busy": "2023-06-05T20:16:22.094149Z",
     "iopub.status.idle": "2023-06-05T20:16:22.116423Z",
     "shell.execute_reply": "2023-06-05T20:16:22.115527Z",
     "shell.execute_reply.started": "2023-06-05T20:16:22.094451Z"
    },
    "id": "Ef6dNkihxzYd"
   },
   "outputs": [],
   "source": [
    "# TODO : define new datasets with mean, std and normalise=True\n",
    "# be careful with the labels, they should start from 0!\n",
    "conductor_train = TabularDataset(train_X, train_y, mean = mean_train, std = std_train ,normalise=True)\n",
    "\n",
    "mean_test = test_X.mean(axis = 0)\n",
    "std_test = test_X.std(axis =0)\n",
    "\n",
    "conductor_test = TabularDataset(test_X, test_y,mean = mean_test, std = std_test ,normalise=True)\n",
    "\n",
    "## TODO : define dataloaders, with specified batch size and shuffled\n",
    "batch_size = 256\n",
    "train_dataloader = torch.utils.data.DataLoader(conductor_train,batch_size,shuffle = True)\n",
    "test_dataloader = torch.utils.data.DataLoader(conductor_test,batch_size,shuffle = True)"
   ]
  },
  {
   "cell_type": "code",
   "execution_count": 45,
   "metadata": {
    "execution": {
     "iopub.execute_input": "2023-06-05T20:16:22.118622Z",
     "iopub.status.busy": "2023-06-05T20:16:22.118260Z",
     "iopub.status.idle": "2023-06-05T20:16:22.232107Z",
     "shell.execute_reply": "2023-06-05T20:16:22.231078Z",
     "shell.execute_reply.started": "2023-06-05T20:16:22.118589Z"
    }
   },
   "outputs": [
    {
     "name": "stdout",
     "output_type": "stream",
     "text": [
      "Dimensions of x for first batch:(256, 31)\n",
      "Dimension of y for first batch:(256,)\n"
     ]
    }
   ],
   "source": [
    "#We will dispay the dimensions of x and y for the first batch\n",
    "for i in train_dataloader.batch_sampler:\n",
    "    batch_1_x = train_dataloader.dataset.x[i]  #iloc can get rows for list of indexes i \n",
    "    print(f\"Dimensions of x for first batch:{batch_1_x.shape}\")\n",
    "    batch_1_y = train_dataloader.dataset.y[i]\n",
    "    print(f\"Dimension of y for first batch:{batch_1_y.shape}\")\n",
    "    break"
   ]
  },
  {
   "cell_type": "markdown",
   "metadata": {
    "id": "N28MlXQ7ON1j"
   },
   "source": [
    "## Logistic regression"
   ]
  },
  {
   "cell_type": "code",
   "execution_count": 46,
   "metadata": {
    "execution": {
     "iopub.execute_input": "2023-06-05T20:16:22.233975Z",
     "iopub.status.busy": "2023-06-05T20:16:22.233510Z",
     "iopub.status.idle": "2023-06-05T20:16:22.241081Z",
     "shell.execute_reply": "2023-06-05T20:16:22.240080Z",
     "shell.execute_reply.started": "2023-06-05T20:16:22.233939Z"
    },
    "id": "NT-EtgZKOLb0"
   },
   "outputs": [],
   "source": [
    "class LR(torch.nn.Module):\n",
    "    \"\"\"\n",
    "    The logistic regression model inherits from torch.nn.Module \n",
    "    which is the base class for all neural network modules.\n",
    "    \"\"\"\n",
    "    def __init__(self, input_dim, output_dim):\n",
    "        \"\"\" Initializes internal Module state. \"\"\"\n",
    "        super(LR, self).__init__()\n",
    "        # TODO define linear layer for the model\n",
    "        self.layer1 = torch.nn.Linear(input_dim, output_dim)\n",
    "        \n",
    "\n",
    "    def forward(self, x):\n",
    "        \"\"\" Defines the computation performed at every call. \"\"\"\n",
    "        # What are the dimensions of your input layer?\n",
    "        x = x.to(torch.float32)\n",
    "        # TODO run the data through the layer\n",
    "        logits = self.layer1(x)\n",
    "        outputs = torch.nn.Softmax(dim=1)(logits)\n",
    "        return outputs"
   ]
  },
  {
   "cell_type": "code",
   "execution_count": 47,
   "metadata": {
    "execution": {
     "iopub.execute_input": "2023-06-05T20:16:22.243407Z",
     "iopub.status.busy": "2023-06-05T20:16:22.242733Z",
     "iopub.status.idle": "2023-06-05T20:16:22.268957Z",
     "shell.execute_reply": "2023-06-05T20:16:22.267952Z",
     "shell.execute_reply.started": "2023-06-05T20:16:22.243370Z"
    },
    "id": "eWDd_hYGOZSj"
   },
   "outputs": [],
   "source": [
    "## TODO define model, loss and optimisers\n",
    "## don't forget to move everything for the correct devices\n",
    "## \n",
    "lr=0.001\n",
    "input_dim = 31 #31 features\n",
    "output_dim = 3 #3 classes\n",
    "logistic_regression = LR(input_dim, output_dim)\n",
    "optimizer = torch.optim.Adam(logistic_regression.parameters(), lr=lr)\n",
    "loss_fn = torch.nn.CrossEntropyLoss()"
   ]
  },
  {
   "cell_type": "code",
   "execution_count": 58,
   "metadata": {
    "execution": {
     "iopub.execute_input": "2023-06-05T20:20:54.994867Z",
     "iopub.status.busy": "2023-06-05T20:20:54.994505Z",
     "iopub.status.idle": "2023-06-05T20:21:39.567950Z",
     "shell.execute_reply": "2023-06-05T20:21:39.566902Z",
     "shell.execute_reply.started": "2023-06-05T20:20:54.994837Z"
    },
    "id": "6EFwKn-iOgNv"
   },
   "outputs": [
    {
     "name": "stderr",
     "output_type": "stream",
     "text": [
      "100%|██████████| 30/30 [00:44<00:00,  1.49s/it]\n"
     ]
    }
   ],
   "source": [
    "## TODO train the network\n",
    "num_epochs = 30\n",
    "#use test_dataloader as validation_dataloader\n",
    "train_losses,train_accs,val_losses,val_accs=run_training(logistic_regression, optimizer, loss_fn, device, num_epochs, train_dataloader, test_dataloader)"
   ]
  },
  {
   "cell_type": "code",
   "execution_count": 59,
   "metadata": {
    "execution": {
     "iopub.execute_input": "2023-06-05T20:21:39.575287Z",
     "iopub.status.busy": "2023-06-05T20:21:39.572810Z",
     "iopub.status.idle": "2023-06-05T20:21:39.958699Z",
     "shell.execute_reply": "2023-06-05T20:21:39.957816Z",
     "shell.execute_reply.started": "2023-06-05T20:21:39.575249Z"
    },
    "id": "H-IJWOsATYul"
   },
   "outputs": [
    {
     "data": {
      "image/png": "[encoded data removed]",
      "text/plain": [
       "<Figure size 640x480 with 1 Axes>"
      ]
     },
     "metadata": {},
     "output_type": "display_data"
    }
   ],
   "source": [
    "## todo - plot losses and accuracies\n",
    "plot(train_losses, val_losses, 'Loss')"
   ]
  },
  {
   "cell_type": "code",
   "execution_count": 60,
   "metadata": {
    "execution": {
     "iopub.execute_input": "2023-06-05T20:21:39.965207Z",
     "iopub.status.busy": "2023-06-05T20:21:39.962841Z",
     "iopub.status.idle": "2023-06-05T20:21:40.343603Z",
     "shell.execute_reply": "2023-06-05T20:21:40.342596Z",
     "shell.execute_reply.started": "2023-06-05T20:21:39.965171Z"
    },
    "id": "HjAaYdd8TZed"
   },
   "outputs": [
    {
     "data": {
      "image/png": "[encoded data removed]",
      "text/plain": [
       "<Figure size 640x480 with 1 Axes>"
      ]
     },
     "metadata": {},
     "output_type": "display_data"
    }
   ],
   "source": [
    "plot(train_accs, val_accs, 'Accuracy')"
   ]
  },
  {
   "cell_type": "markdown",
   "metadata": {
    "id": "cb1bca9a"
   },
   "source": [
    "\n",
    "## Create a simple MLP\n",
    "\n",
    "As the default tree has 3 layers, let's make a MLP with 3 linear layers and ReLU.\n",
    "Please notice that making convolutions on tabular data does not make much sense even though it is technically possible.   \n",
    "\n",
    "**TODO :** Explain why making convolutions on tabular data does not make much sense. Why do we use an MLP, not a CNN from the previous homework?"
   ]
  },
  {
   "cell_type": "code",
   "execution_count": 61,
   "metadata": {
    "execution": {
     "iopub.execute_input": "2023-06-05T20:22:50.125576Z",
     "iopub.status.busy": "2023-06-05T20:22:50.124901Z",
     "iopub.status.idle": "2023-06-05T20:22:50.132316Z",
     "shell.execute_reply": "2023-06-05T20:22:50.131443Z",
     "shell.execute_reply.started": "2023-06-05T20:22:50.125544Z"
    },
    "id": "4eecbb52"
   },
   "outputs": [],
   "source": [
    "class TabularNetwork(torch.nn.Module):\n",
    "    def __init__(self, input_dim, output_dim):\n",
    "        \"\"\" Initializes internal Module state. \"\"\"\n",
    "        super(TabularNetwork, self).__init__()\n",
    "        self.network = nn.Sequential(\n",
    "            # TODO : define 3 linear layer with sizes \n",
    "            # input_dim -> input_dim // 2 -> output_dim\n",
    "            # using ReLU as nonlinearity\n",
    "            \n",
    "                      torch.nn.Linear(input_dim,input_dim//2),\n",
    "                      torch.nn.ReLU(),\n",
    "                      torch.nn.Linear(input_dim//2,output_dim),\n",
    "#                       torch.nn.Softmax(dim=1)\n",
    "                    )\n",
    "            \n",
    "      \n",
    "\n",
    "    def forward(self, x):\n",
    "        \"\"\" Defines the computation performed at every call. \"\"\"\n",
    "        x = x.to(torch.float32)\n",
    "        outputs = self.network(x)\n",
    "        return outputs"
   ]
  },
  {
   "cell_type": "code",
   "execution_count": 54,
   "metadata": {
    "execution": {
     "iopub.execute_input": "2023-06-05T20:17:49.579644Z",
     "iopub.status.busy": "2023-06-05T20:17:49.579108Z",
     "iopub.status.idle": "2023-06-05T20:17:49.589456Z",
     "shell.execute_reply": "2023-06-05T20:17:49.588328Z",
     "shell.execute_reply.started": "2023-06-05T20:17:49.579611Z"
    },
    "id": "5OGid8SpMvZz"
   },
   "outputs": [],
   "source": [
    "## TODO : define model, optimiser, cross entropy loss,\n",
    "## put model to the device, and train mode\n",
    "## you can optionally apply regularisation between 0.0005 and 0.005 \n",
    "lr=0.001\n",
    "mlp_model = TabularNetwork(input_dim, output_dim)\n",
    "optimizer_mlp = torch.optim.Adam(mlp_model.parameters(), lr=lr)\n",
    "loss_fn_mlp = nn.CrossEntropyLoss()"
   ]
  },
  {
   "cell_type": "code",
   "execution_count": 55,
   "metadata": {
    "execution": {
     "iopub.execute_input": "2023-06-05T20:17:49.592796Z",
     "iopub.status.busy": "2023-06-05T20:17:49.591973Z",
     "iopub.status.idle": "2023-06-05T20:19:06.969289Z",
     "shell.execute_reply": "2023-06-05T20:19:06.968337Z",
     "shell.execute_reply.started": "2023-06-05T20:17:49.592760Z"
    },
    "id": "Z-WNxtczM5Iv"
   },
   "outputs": [
    {
     "name": "stderr",
     "output_type": "stream",
     "text": [
      "100%|██████████| 50/50 [01:17<00:00,  1.55s/it]\n"
     ]
    }
   ],
   "source": [
    "## TODO : Train model\n",
    "num_epochs = 50\n",
    "train_losses_mlp,train_accs_mlp,val_losses_mlp,val_accs_mlp=run_training(mlp_model, optimizer_mlp, loss_fn_mlp, device, num_epochs, train_dataloader, test_dataloader)"
   ]
  },
  {
   "cell_type": "code",
   "execution_count": 56,
   "metadata": {
    "execution": {
     "iopub.execute_input": "2023-06-05T20:19:06.971974Z",
     "iopub.status.busy": "2023-06-05T20:19:06.971158Z",
     "iopub.status.idle": "2023-06-05T20:19:07.268714Z",
     "shell.execute_reply": "2023-06-05T20:19:07.267796Z",
     "shell.execute_reply.started": "2023-06-05T20:19:06.971933Z"
    },
    "id": "I_xVns4qM5eO"
   },
   "outputs": [
    {
     "data": {
      "image/png": "[encoded data removed]",
      "text/plain": [
       "<Figure size 640x480 with 1 Axes>"
      ]
     },
     "metadata": {},
     "output_type": "display_data"
    }
   ],
   "source": [
    "# TODO plot losses\n",
    "plot(train_losses_mlp, val_losses_mlp, 'Loss')"
   ]
  },
  {
   "cell_type": "code",
   "execution_count": 57,
   "metadata": {
    "execution": {
     "iopub.execute_input": "2023-06-05T20:19:07.270993Z",
     "iopub.status.busy": "2023-06-05T20:19:07.270327Z",
     "iopub.status.idle": "2023-06-05T20:19:07.600415Z",
     "shell.execute_reply": "2023-06-05T20:19:07.597770Z",
     "shell.execute_reply.started": "2023-06-05T20:19:07.270959Z"
    },
    "id": "JRAEaYnYUpd_"
   },
   "outputs": [
    {
     "data": {
      "image/png": "[encoded data removed]",
      "text/plain": [
       "<Figure size 640x480 with 1 Axes>"
      ]
     },
     "metadata": {},
     "output_type": "display_data"
    }
   ],
   "source": [
    "# TODO plot accuracies\n",
    "plot(train_accs_mlp, val_accs_mlp, 'Accuracy')"
   ]
  },
  {
   "cell_type": "markdown",
   "metadata": {
    "id": "J8HbVqiUznBu"
   },
   "source": [
    "**TODO:** Did your network perform better or worse than the GradientBoostingClassifier on this dataset? Why? \n"
   ]
  },
  {
   "cell_type": "markdown",
   "metadata": {
    "id": "cc0f5f87"
   },
   "source": [
    "## Bonus tasks (optional)\n",
    "* Try to use SGD instead of Adam as optimiser. What do you notice?\n",
    "Here are different opinions on this topic:\n",
    "  * https://codeahoy.com/questions/ds-interview/33/#:~:text=Adam%20tends%20to%20converge%20faster,converges%20to%20more%20optimal%20solutions.\n",
    "  * https://shaoanlu.wordpress.com/2017/05/29/sgd-all-which-one-is-the-best-optimizer-dogs-vs-cats-toy-experiment/ \n",
    "  * https://datascience.stackexchange.com/questions/30344/why-not-always-use-the-adam-optimization-technique\n",
    "\n",
    "* Try to make your MLP twice deeper. What do you notice? Why?\n",
    "\n",
    "## Advanced topic to read about:\n",
    "**Tools which may be helpful for data exploration:**\n",
    "* df.describe() - returns some basic statistics for your dataset - https://pandas.pydata.org/docs/reference/api/pandas.DataFrame.describe.html\n",
    "* ydata-profiling (previous pandas-profiling) - generates interactive data exploration report: basic statistics, nans, correlations between different features - https://github.com/ydataai/ydata-profiling\n",
    "\n",
    "**Tree libraries**\n",
    "* XGBoost - XGBoost stands for “Extreme Gradient Boosting”, where the term “Gradient Boosting” originates from the paper Greedy Function Approximation: A Gradient Boosting Machine, by Friedman. https://xgboost.readthedocs.io/en/stable/tutorials/model.html\n",
    "* LightGBM - industrial library for XGBoost from Miscrosoft. LightGBM is a gradient boosting framework that uses tree based learning algorithms. It is designed to be distributed and efficient. https://lightgbm.readthedocs.io/en/v3.3.2/"
   ]
  },
  {
   "cell_type": "markdown",
   "metadata": {},
   "source": []
  }
 ],
 "metadata": {
  "kernelspec": {
   "display_name": "Python 3",
   "language": "python",
   "name": "python3"
  },
  "language_info": {
   "codemirror_mode": {
    "name": "ipython",
    "version": 3
   },
   "file_extension": ".py",
   "mimetype": "text/x-python",
   "name": "python",
   "nbconvert_exporter": "python",
   "pygments_lexer": "ipython3",
   "version": "3.8.8"
  }
 },
 "nbformat": 4,
 "nbformat_minor": 4
}
